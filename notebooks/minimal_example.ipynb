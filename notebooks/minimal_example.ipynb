{
 "cells": [
  {
   "cell_type": "markdown",
   "metadata": {},
   "source": [
    "# HyperGen Minimal Example - 5 Lines\n",
    "\n",
    "The absolute minimal example to train a LoRA with HyperGen.\n",
    "\n",
    "**Time:** ~5 minutes  \n",
    "**GPU:** 12GB+ VRAM"
   ]
  },
  {
   "cell_type": "code",
   "execution_count": null,
   "metadata": {},
   "outputs": [],
   "source": [
    "# Install (only needed once)\n",
    "!pip install -q torch diffusers transformers accelerate peft pillow datasets tqdm\n",
    "!pip install -q git+https://github.com/ntegrals/hypergen.git"
   ]
  },
  {
   "cell_type": "code",
   "execution_count": null,
   "metadata": {},
   "outputs": [],
   "source": [
    "# Download a tiny dataset (30 pokemon images)\n",
    "from datasets import load_dataset\n",
    "from pathlib import Path\n",
    "\n",
    "dataset_dir = Path(\"./data\")\n",
    "dataset_dir.mkdir(exist_ok=True)\n",
    "\n",
    "hf_dataset = load_dataset(\"lambdalabs/naruto-blip-captions\", split=\"train\").select(range(30))\n",
    "\n",
    "for idx, item in enumerate(hf_dataset):\n",
    "    item[\"image\"].save(dataset_dir / f\"{idx:04d}.png\")\n",
    "    (dataset_dir / f\"{idx:04d}.txt\").write_text(item[\"text\"])\n",
    "\n",
    "print(f\"✓ Downloaded {len(hf_dataset)} images\")"
   ]
  },
  {
   "cell_type": "code",
   "execution_count": null,
   "metadata": {},
   "outputs": [],
   "source": [
    "# Train LoRA in 5 lines!\n",
    "from hypergen import model, dataset\n",
    "\n",
    "m = model.load(\"stabilityai/sdxl-turbo\")  # Fast model for quick demo\n",
    "m.to(\"cuda\")\n",
    "ds = dataset.load(\"./data\")\n",
    "lora = m.train_lora(ds, steps=50, resolution=512)  # Quick 50 steps\n",
    "\n",
    "print(\"\\n✓ Training done!\")"
   ]
  },
  {
   "cell_type": "code",
   "execution_count": null,
   "metadata": {},
   "outputs": [],
   "source": [
    "# Generate an image\n",
    "image = m.generate(\n",
    "    \"naruto uzumaki in ninja outfit\",\n",
    "    num_inference_steps=4,\n",
    "    guidance_scale=0.0,\n",
    ")[0]\n",
    "\n",
    "display(image)\n",
    "print(\"✓ Done!\")"
   ]
  },
  {
   "cell_type": "markdown",
   "metadata": {},
   "source": [
    "## That's it!\n",
    "\n",
    "You just trained a LoRA on a diffusion model in ~5 minutes.\n",
    "\n",
    "**Next steps:**\n",
    "- Check out [train_lora_quickstart.ipynb](train_lora_quickstart.ipynb) for a complete tutorial\n",
    "- Use your own images by replacing the dataset\n",
    "- Train for more steps (500-1000) for better quality\n",
    "- Try different models: `stabilityai/stable-diffusion-xl-base-1.0`, `black-forest-labs/FLUX.1-dev`"
   ]
  }
 ],
 "metadata": {
  "kernelspec": {
   "display_name": "Python 3",
   "language": "python",
   "name": "python3"
  },
  "language_info": {
   "codemirror_mode": {
    "name": "ipython",
    "version": 3
   },
   "file_extension": ".py",
   "mimetype": "text/x-python",
   "name": "python",
   "nbconvert_exporter": "python",
   "pygments_lexer": "ipython3",
   "version": "3.10.0"
  }
 },
 "nbformat": 4,
 "nbformat_minor": 4
}
